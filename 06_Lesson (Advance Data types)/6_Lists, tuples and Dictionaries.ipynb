
String Handling
name = 'Muhammad Kamran Khan'
print(name)
Muhammad Kamran Khan
age = 28
print(age)
28
String Indexing
variable_name[index]
name = 'Muhammad Kamran Khan'
print(name[9])
K
String Slicing
variable_name[start: end: step]
# Case no: 1
print(name[4:8])
mmad
String Methods
# Lenght of String
print('Lenght of string:', len(name))
Lenght of string: 20
# Upper Case
print('String in uppercase:', name.upper())
String in uppercase: MUHAMMAD KAMRAN KHAN
# Lower Case
print('String in lowercase:',name.lower())
String in lowercase: muhammad kamran khan
# Splitting
words = name.split()
print('Splitting string:', words)
Splitting string: ['Muhammad', 'Kamran', 'Khan']
# Joining
print('Joining strings:', '-'.join(words))
Joining strings: Muhammad-Kamran-Khan
# Text Finding
print('Find position of text:', name.find('Kamran'))
Find position of text: 9
# Text Replace
print('Replace string with any other string:', name.replace('Khan', 'Developer'))
Replace string with any other string: Muhammad Kamran Developer
# Checking Text Starts With
print('Check string starts with:', name.startswith('Muhammad'))
Check string starts with: True
# Checking Text Ends With
print('Check string ends with:', name.endswith('Khan'))
Check string ends with: True
# Right String Align
print('Start string from right side:', name.rjust(50))
Start string from right side:                               Muhammad Kamran Khan
# Left String Align
print('Start string from left side:',name.ljust(50))
Start string from left side: Muhammad Kamran Khan                              
# Center String Align
print('Start string from center:',name.center(50))
Start string from center:                Muhammad Kamran Khan               
# Reversing a String
print('Print string in reverse position:', name[::-1])
Print string in reverse position: nahK narmaK dammahuM
# String To List
print('Convert string into list:', list(name))
Convert string into list: ['M', 'u', 'h', 'a', 'm', 'm', 'a', 'd', ' ', 'K', 'a', 'm', 'r', 'a', 'n', ' ', 'K', 'h', 'a', 'n']
# Checking Substring Presence
print('Check string is present or not:', 'Kamran' in name)
Check string is present or not: True
# String Formatting Style 1
print("My name is %s and I am %d years old." % (name, age))
My name is Muhammad Kamran Khan and I am 28 years old.
# String Formatting Style 2
print("My name is {} and I am {} years old.".format(name, age))
My name is Muhammad Kamran Khan and I am 28 years old.
# Escaping Characters
text = "He said, \"Python is great!\""  
print('Escape characters:', text)
Escape characters: He said, "Python is great!"
# string Comparision
str1 = "apple"
str2 = "banana"
is_equal = str1 == str2  
print("Checking strings are equal or not:", is_equal)
is_less = str1 < str2
print("Checking string is less than other string:", is_less)  
Checking strings are equal or not: False
Checking string is less than other string: True
List
#Defining and printing
fruits = ['apple', 'banana', 'cherry', 'mango', 'orange', 'almod', 'melon']
print(fruits)
['apple', 'banana', 'cherry', 'mango', 'orange', 'almod', 'melon']
1. Indexing
fruits[1]
'banana'
2. Negative indexing
fruits[-1]
'melon'
3. Slicing
[start(default = 0) : end : step (default = 1)]
# Case no: 1
fruits[2: 5]
['cherry', 'mango', 'orange']
# Case no: 2
fruits[:4] 
['apple', 'banana', 'cherry', 'mango']
# Case no: 3
fruits[2:]
['cherry', 'mango', 'orange', 'almod', 'melon']
# Case no: 4
fruits[0:7:2]
['apple', 'cherry', 'orange', 'melon']
# Case no: 5
fruits[-5: -2]
['cherry', 'mango', 'orange']
4. Updating list
Case no: 1
fruits[2] = 'Watermelon'
print(fruits)
['apple', 'banana', 'Watermelon', 'stawberry', 'Guava', 'almod', 'melon']
Case no: 2
#Second Update
fruits[2: 5] = ['cherry', 'stawberry', 'Guava']
print(fruits)
['apple', 'banana', 'cherry', 'stawberry', 'Guava', 'almod', 'melon']
5. List Manipulation Functions
# insert() 
fruits.insert(1, 'grapes')
print(fruits)
['apple', 'grapes', 'banana', 'cherry', 'stawberry', 'Guava', 'almod', 'melon']
# appened() 
fruits.append('lemon')
print(fruits)
['apple', 'grapes', 'banana', 'cherry', 'stawberry', 'Guava', 'almod', 'melon', 'lemon']
# extend()

product1 = ['Mobile', 'telephone', 'airbods']
product2 = ['shirts', 'hoddies', 'jeans']

product1.extend(product2)
print(product1)
['Mobile', 'telephone', 'airbods', 'shirts', 'hoddies', 'jeans']
# remove()
fruits.remove('melon')
print(fruits)
['apple', 'grapes', 'banana', 'cherry', 'stawberry', 'Guava', 'almod', 'lemon']
# pop()
x = fruits.pop(2)
print(fruits)
print("Removed item: ", x)
['apple', 'grapes', 'cherry', 'stawberry', 'Guava', 'almod', 'lemon']
Removed item:  banana
6. Sorting
fruits = ['guava', 'Strawbery', 'almod', 'apple', 'grapes']
# Case no: 1- sorting 
fruits.sort()
print(fruits)
['Strawbery', 'almod', 'apple', 'grapes', 'guava']
# Case no: 2- sorting in reverse order
fruits.sort(reverse=True)
print(fruits)
['guava', 'grapes', 'apple', 'almod', 'Strawbery']
7. List Aliasing
original = fruits
fruits.append('melon')
print(fruits)
print(original)
['guava', 'grapes', 'apple', 'almod', 'Strawbery', 'melon']
['guava', 'grapes', 'apple', 'almod', 'Strawbery', 'melon']
original2 = fruits.copy()
fruits.append('cherry')
print(fruits)
print(original2)
['guava', 'grapes', 'apple', 'almod', 'Strawbery', 'melon', 'cherry']
['guava', 'grapes', 'apple', 'almod', 'Strawbery', 'melon']
8. Advance Lists (2D Lists, 3D Lists)
1. 2D List
# 2D List
fruits_veg = [['apple', 'banana', 'cherry'], ['Brinjal', 'Potato', 'Radish']]
print(fruits_veg)
[['apple', 'banana', 'cherry'], ['Brinjal', 'Potato', 'Radish']]
# indexing
print(fruits_veg[1][1])
print(fruits_veg[0][2])
Potato
cherry
# Indexing Multiple Elements
print(fruits_veg[1][1],fruits_veg[0][0])
Potato apple
# Slicing a Sublist
print(fruits_veg[1][1:3])
['Potato', 'Radish']
# Negative Indexing
print(fruits_veg[-1][-1])
Radish
2. 3D List
fruits_veg = [[['apple', 'banana', 'cherry']],
               [['Brinjal', 'Potato', 'Radish']]]
print(fruits_veg[0])
print(fruits_veg[1][0][2])
[['apple', 'banana', 'cherry']]
Radish
Tuples
# Creating Tuples
vegetables = ('Potato', 'Spinish', 'Carrot', 'Onion', 'Garlic', 'Cabbage')
print(vegetables)
('Potato', 'Spinish', 'Carrot', 'Onion', 'Garlic', 'Cabbage')
1. Indexing
vegetables[2]
'Carrot'
2. Negative Indexing
vegetables[-1]
'Cabbage'
3. Slicing
vegetables[2:5]
('Carrot', 'Onion', 'Garlic')
# Negative Indexing and Slicing
vegetables[-5:-2]
('Spinish', 'Carrot', 'Onion')
4. Immutable Nature of Tuples
# Wrong Way
vegetables[1] = 'Radish'
---------------------------------------------------------------------------
TypeError                                 Traceback (most recent call last)
Cell In[42], line 2
      1 # Wrong Way
----> 2 vegetables[1] = 'Radish'

TypeError: 'tuple' object does not support item assignment
# Right Way
veg_list = list(vegetables) 
veg_list[1] = 'Radish' 
veg_list.append('Turnip') 
veg_list[2] = 'Cucumber' 
vegetables = tuple(veg_list)
print(vegetables)
5. 2D Tuples
# Declaration
fruits_veg = (('apple', 'banana', 'cherry'), ('Brinjal', ' Potato', 'Radish'))
print(fruits_veg)
(('apple', 'banana', 'cherry'), ('Brinjal', ' Potato', 'Radish'))
# Indexing
print(fruits_veg[1][1])
print(fruits_veg[0][2])
 Potato
cherry
Dictionaries
# Creating a Dictionary
fruits_dict = {'A': 'apple', 'B': 'banana', 
               'C': 'cherry', 'D': 'Dragon fruits'}
print(fruits_dict)
{'A': 'apple', 'B': 'banana', 'C': 'cherry', 'D': 'Dragon fruits'}
1. Item Indexing
fruits_dict['C']
'cherry'
2. Item Update
fruits_dict['A'] = ['Almod', 'Apple']
print(fruits_dict)
{'A': ['Almod', 'Apple'], 'B': 'banana', 'C': 'cherry', 'D': 'Dragon fruits'}
3. Accessing
# Dictionary Initialization
students = {'Roll no': [101, 102, 103], 'Name': ['Ali', 'Ahmad', 'Amir']}
# Accessing
print(students['Name'][1])
Ahmad
# Slicing
print(students['Name'][:])
['Ali', 'Ahmad', 'Amir']
sequence = ('apple', 'banana', 'cherry')
new_dict = dict.fromkeys(sequence, 0)
print(new_dict)
{'apple': 0, 'banana': 0, 'cherry': 0}
# Key-based Accessing
students.get('Roll no')
[101, 102, 103]
# Accessing Items (keys and Values)
students.items()
dict_items([('Roll no', [101, 102, 103]), ('Name', ['Ali', 'Ahmad', 'Amir'])])
# Accessing Keys only 
students.keys()
dict_keys(['Roll no', 'Name'])
5. POP Operations
# Key based POP
students.pop('Name')
['Ali', 'Ahmad', 'Amir']
# Arbitrary POP
students.popitem()
('Roll no', [101, 102, 103])
Sets
# Set Creation
fruits = {'apple', 'banana', 'cherry', 'orange', 'melon', 'watermelon'}
print(fruits)
{'orange', 'watermelon', 'melon', 'apple', 'cherry', 'banana'}
# Indexing doesn't apply 
fruits[0]
---------------------------------------------------------------------------
TypeError                                 Traceback (most recent call last)
Cell In[69], line 2
      1 # Indexing doesn't apply 
----> 2 fruits[0]

TypeError: 'set' object is not subscriptable
Advance Topic
1. For Loops
for i in range(20):
    if i%2 == 0:
        print(i)
0
2
4
6
8
10
12
14
16
18
Shortcut method
x = [i for i in range(20) if i % 2 == 0]
print(x)
[0, 2, 4, 6, 8, 10, 12, 14, 16, 18]
